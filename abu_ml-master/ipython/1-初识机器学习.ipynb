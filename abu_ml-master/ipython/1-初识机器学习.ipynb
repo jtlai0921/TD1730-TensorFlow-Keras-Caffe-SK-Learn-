{
 "cells": [
  {
   "cell_type": "code",
   "execution_count": 1,
   "metadata": {
    "collapsed": true
   },
   "outputs": [],
   "source": [
    "%matplotlib inline\n",
    "\n",
    "import warnings\n",
    "warnings.filterwarnings('ignore')\n",
    "warnings.simplefilter('ignore')\n",
    "import seaborn as sns\n",
    "\n",
    "sns.set_context(rc={'figure.figsize': (14, 7) } )\n",
    "figzize_me = figsize =(14, 7)"
   ]
  },
  {
   "cell_type": "markdown",
   "metadata": {},
   "source": [
    "# 第一章 初识机器学习\n",
    "\n",
    "本章依赖的python类库有：\n",
    "\n",
    "- numpy 快速操作结构数组的工具\n",
    "- pandas 数据分析处理工具\n",
    "- matplotlib 画图工具\n",
    "- sklearn 机器学习库\n",
    "- seaborn 基于matplotlib封装的统计绘图工具\n",
    "- abupy 开源的量化系统，内含ml_fit机器学习模块，[abupy开源地址](https://github.com/bbfamily/abu)，[abupy环境搭建教程](http://www.abuquant.com/lecture/lecture_0.html)\n",
    "\n",
    "安装教程见实体书附录A，每个小节可以独立运行。\n",
    "\n",
    "____"
   ]
  },
  {
   "cell_type": "markdown",
   "metadata": {},
   "source": [
    "## 1.2 KNN（K-NearestNeighbor K-近邻算法）——相似的邻居请投票"
   ]
  },
  {
   "cell_type": "code",
   "execution_count": 2,
   "metadata": {
    "collapsed": true
   },
   "outputs": [],
   "source": [
    "import numpy as np # numpy可以快速操作结构数组\n",
    "\n",
    "vec1 = np.array([1, 2, 3])\n",
    "vec2 = np.array([4, 5, 6])\n",
    "# 欧氏距离\n",
    "assert np.linalg.norm(vec1 - vec2) == np.sqrt(np.sum(np.square(vec1 - vec2)))"
   ]
  },
  {
   "cell_type": "markdown",
   "metadata": {},
   "source": [
    "### 鸢尾花卉数据集（IRIS）\n",
    "\n",
    "#### 训练模型"
   ]
  },
  {
   "cell_type": "code",
   "execution_count": 3,
   "metadata": {
    "collapsed": false
   },
   "outputs": [],
   "source": [
    "import numpy as np # 快速操作结构数组的工具\n",
    "import pandas as pd # 数据分析处理工具\n",
    "import matplotlib.pyplot as plt # 画图工具\n",
    "from sklearn import datasets # 机器学习库\n",
    "\n",
    "#数据集 0-setosa、1-versicolor、2-virginica\n",
    "scikit_iris = datasets.load_iris()\n",
    "# 转换成pandas的DataFrame数据格式，方便观察数据\n",
    "iris = pd.DataFrame(data=np.c_[scikit_iris['data'], scikit_iris['target']],\n",
    "                     columns=np.append(scikit_iris.feature_names, ['y']))"
   ]
  },
  {
   "cell_type": "code",
   "execution_count": 4,
   "metadata": {
    "collapsed": false
   },
   "outputs": [
    {
     "data": {
      "text/html": [
       "<div>\n",
       "<table border=\"1\" class=\"dataframe\">\n",
       "  <thead>\n",
       "    <tr style=\"text-align: right;\">\n",
       "      <th></th>\n",
       "      <th>sepal length (cm)</th>\n",
       "      <th>sepal width (cm)</th>\n",
       "      <th>petal length (cm)</th>\n",
       "      <th>petal width (cm)</th>\n",
       "      <th>y</th>\n",
       "    </tr>\n",
       "  </thead>\n",
       "  <tbody>\n",
       "    <tr>\n",
       "      <th>0</th>\n",
       "      <td>5.1</td>\n",
       "      <td>3.5</td>\n",
       "      <td>1.4</td>\n",
       "      <td>0.2</td>\n",
       "      <td>0.0</td>\n",
       "    </tr>\n",
       "    <tr>\n",
       "      <th>1</th>\n",
       "      <td>4.9</td>\n",
       "      <td>3.0</td>\n",
       "      <td>1.4</td>\n",
       "      <td>0.2</td>\n",
       "      <td>0.0</td>\n",
       "    </tr>\n",
       "  </tbody>\n",
       "</table>\n",
       "</div>"
      ],
      "text/plain": [
       "   sepal length (cm)  sepal width (cm)  petal length (cm)  petal width (cm)  \\\n",
       "0                5.1               3.5                1.4               0.2   \n",
       "1                4.9               3.0                1.4               0.2   \n",
       "\n",
       "     y  \n",
       "0  0.0  \n",
       "1  0.0  "
      ]
     },
     "execution_count": 4,
     "metadata": {},
     "output_type": "execute_result"
    }
   ],
   "source": [
    "iris.head(2)"
   ]
  },
  {
   "cell_type": "code",
   "execution_count": 5,
   "metadata": {
    "collapsed": false
   },
   "outputs": [
    {
     "data": {
      "text/plain": [
       "sepal length (cm)    0\n",
       "sepal width (cm)     0\n",
       "petal length (cm)    0\n",
       "petal width (cm)     0\n",
       "y                    0\n",
       "dtype: int64"
      ]
     },
     "execution_count": 5,
     "metadata": {},
     "output_type": "execute_result"
    }
   ],
   "source": [
    "# 检查数据是否有缺失\n",
    "iris.isnull().sum()"
   ]
  },
  {
   "cell_type": "code",
   "execution_count": 6,
   "metadata": {
    "collapsed": false
   },
   "outputs": [
    {
     "data": {
      "text/html": [
       "<div>\n",
       "<table border=\"1\" class=\"dataframe\">\n",
       "  <thead>\n",
       "    <tr style=\"text-align: right;\">\n",
       "      <th></th>\n",
       "      <th>sepal length (cm)</th>\n",
       "      <th>sepal width (cm)</th>\n",
       "      <th>petal length (cm)</th>\n",
       "      <th>petal width (cm)</th>\n",
       "    </tr>\n",
       "    <tr>\n",
       "      <th>y</th>\n",
       "      <th></th>\n",
       "      <th></th>\n",
       "      <th></th>\n",
       "      <th></th>\n",
       "    </tr>\n",
       "  </thead>\n",
       "  <tbody>\n",
       "    <tr>\n",
       "      <th>0.0</th>\n",
       "      <td>50</td>\n",
       "      <td>50</td>\n",
       "      <td>50</td>\n",
       "      <td>50</td>\n",
       "    </tr>\n",
       "    <tr>\n",
       "      <th>1.0</th>\n",
       "      <td>50</td>\n",
       "      <td>50</td>\n",
       "      <td>50</td>\n",
       "      <td>50</td>\n",
       "    </tr>\n",
       "    <tr>\n",
       "      <th>2.0</th>\n",
       "      <td>50</td>\n",
       "      <td>50</td>\n",
       "      <td>50</td>\n",
       "      <td>50</td>\n",
       "    </tr>\n",
       "  </tbody>\n",
       "</table>\n",
       "</div>"
      ],
      "text/plain": [
       "     sepal length (cm)  sepal width (cm)  petal length (cm)  petal width (cm)\n",
       "y                                                                            \n",
       "0.0                 50                50                 50                50\n",
       "1.0                 50                50                 50                50\n",
       "2.0                 50                50                 50                50"
      ]
     },
     "execution_count": 6,
     "metadata": {},
     "output_type": "execute_result"
    }
   ],
   "source": [
    "# 观察样本中按类别数量是否比较均衡\n",
    "iris.groupby('y').count()"
   ]
  },
  {
   "cell_type": "code",
   "execution_count": 7,
   "metadata": {
    "collapsed": false
   },
   "outputs": [
    {
     "data": {
      "text/plain": [
       "array([ 1.])"
      ]
     },
     "execution_count": 7,
     "metadata": {},
     "output_type": "execute_result"
    }
   ],
   "source": [
    "# 选择全部特征训练模型\n",
    "X = iris[scikit_iris.feature_names]\n",
    "# label\n",
    "y = iris['y']\n",
    "\n",
    "# 第一步，选择model\n",
    "from sklearn.neighbors import KNeighborsClassifier\n",
    "knn = KNeighborsClassifier(n_neighbors=1)\n",
    "# 第二步，fit X、y\n",
    "knn.fit(X, y)\n",
    "# 第三步，predict新数据\n",
    "knn.predict([[3, 2, 2, 5]])"
   ]
  },
  {
   "cell_type": "markdown",
   "metadata": {},
   "source": [
    "#### 分割训练集和测试集"
   ]
  },
  {
   "cell_type": "code",
   "execution_count": 8,
   "metadata": {
    "collapsed": false
   },
   "outputs": [
    {
     "name": "stdout",
     "output_type": "stream",
     "text": [
      "accuracy: ：0.973684210526\n"
     ]
    }
   ],
   "source": [
    "from abupy import train_test_split\n",
    "from sklearn import metrics\n",
    "\n",
    "# 分割训练-测试集\n",
    "X_train, X_test, y_train, y_test = train_test_split(X, y, random_state=4)\n",
    "\n",
    "# K=15\n",
    "knn = KNeighborsClassifier(n_neighbors=15)\n",
    "knn.fit(X_train, y_train)\n",
    "\n",
    "y_pred_on_train = knn.predict(X_train)\n",
    "y_pred_on_test = knn.predict(X_test)\n",
    "# print(metrics.accuracy_score(y_train, y_pred_on_train))\n",
    "print('accuracy: ：{}'.format(metrics.accuracy_score(y_test, y_pred_on_test)))"
   ]
  },
  {
   "cell_type": "markdown",
   "metadata": {},
   "source": [
    "### abupy\n",
    "\n",
    "[开源项目地址](https://github.com/bbfamily/abu)"
   ]
  },
  {
   "cell_type": "code",
   "execution_count": 9,
   "metadata": {
    "collapsed": false
   },
   "outputs": [
    {
     "name": "stderr",
     "output_type": "stream",
     "text": [
      "KNeighborsClassifier score mean: 0.973333333333\n"
     ]
    },
    {
     "data": {
      "text/plain": [
       "array([ 0.9333,  0.9333,  1.    ,  1.    ,  1.    ,  0.9333,  0.9333,\n",
       "        1.    ,  1.    ,  1.    ])"
      ]
     },
     "execution_count": 9,
     "metadata": {},
     "output_type": "execute_result"
    }
   ],
   "source": [
    "from abupy import AbuML\n",
    "\n",
    "# IRIS花卉数据集\n",
    "iris = AbuML.create_test_fiter()\n",
    "\n",
    "# 使用KNN\n",
    "iris.estimator.knn_classifier(n_neighbors=15)\n",
    "\n",
    "# cross-validation测试\n",
    "iris.cross_val_accuracy_score()"
   ]
  },
  {
   "cell_type": "markdown",
   "metadata": {},
   "source": [
    "## 1.3 逻辑分类I：线性分类模型"
   ]
  },
  {
   "cell_type": "code",
   "execution_count": 10,
   "metadata": {
    "collapsed": true
   },
   "outputs": [],
   "source": [
    "import numpy as np\n",
    "\n",
    "def score(x, w, b):\n",
    "    \"\"\"线性函数\"\"\"\n",
    "    return np.dot(x, w) + b"
   ]
  },
  {
   "cell_type": "code",
   "execution_count": 11,
   "metadata": {
    "collapsed": true
   },
   "outputs": [],
   "source": [
    "def sigmoid(s):\n",
    "    \"\"\"sigmoid函数\"\"\"\n",
    "    return 1. / (1 + np.exp(-s))"
   ]
  },
  {
   "cell_type": "code",
   "execution_count": 12,
   "metadata": {
    "collapsed": true
   },
   "outputs": [],
   "source": [
    "def softmax(s):\n",
    "    \"\"\"softmax函数\"\"\"\n",
    "    return np.exp(s) / np.sum(np.exp(s), axis=0)"
   ]
  },
  {
   "cell_type": "markdown",
   "metadata": {},
   "source": [
    "#### 体验softmax\n",
    "\n",
    "1\\."
   ]
  },
  {
   "cell_type": "code",
   "execution_count": 13,
   "metadata": {
    "collapsed": false
   },
   "outputs": [
    {
     "data": {
      "text/plain": [
       "[<matplotlib.lines.Line2D at 0x115500250>,\n",
       " <matplotlib.lines.Line2D at 0x115500450>,\n",
       " <matplotlib.lines.Line2D at 0x115500590>]"
      ]
     },
     "execution_count": 13,
     "metadata": {},
     "output_type": "execute_result"
    },
    {
     "data": {
      "image/png": "[encoded data removed]",
      "text/plain": [
       "<matplotlib.figure.Figure at 0x1152079d0>"
      ]
     },
     "metadata": {},
     "output_type": "display_data"
    }
   ],
   "source": [
    "import matplotlib.pyplot as plt\n",
    "# seaborn是一个matplotlib之上封装统计plot类库，这里我们只是使用seaborn的样式定义\n",
    "import seaborn as sns\n",
    "\n",
    "x = np.arange(-3.0, 6.0, 0.1)\n",
    "scores = np.vstack([x, np.ones_like(x), 0.2*np.ones_like(x)])\n",
    "plt.plot(x, softmax(scores).T, linewidth=2)"
   ]
  },
  {
   "cell_type": "markdown",
   "metadata": {},
   "source": [
    "2\\."
   ]
  },
  {
   "cell_type": "code",
   "execution_count": 14,
   "metadata": {
    "collapsed": false
   },
   "outputs": [
    {
     "name": "stdout",
     "output_type": "stream",
     "text": [
      "[ 0.659   0.2424  0.0986]\n",
      "[ 1.  0.  0.]\n",
      "[ 0.3366  0.3332  0.3302]\n"
     ]
    }
   ],
   "source": [
    "scores = np.array([2.0, 1.0, 0.1])\n",
    "print(softmax(scores))\n",
    "print(softmax(scores * 100))\n",
    "print(softmax(scores / 100))"
   ]
  },
  {
   "cell_type": "code",
   "execution_count": 15,
   "metadata": {
    "collapsed": true
   },
   "outputs": [],
   "source": [
    "# y是真实标签，p是预测概率\n",
    "def cross_entropy(y, p):\n",
    "    \"\"\"交叉熵\"\"\"\n",
    "    return np.sum(y * np.log(p) + (1 - y) * np.log(1 - p, axis=1))"
   ]
  },
  {
   "cell_type": "markdown",
   "metadata": {},
   "source": [
    "## 1.4 逻辑分类II：线性分类模型\n",
    "\n",
    "### 寻找模型的权重"
   ]
  },
  {
   "cell_type": "code",
   "execution_count": 16,
   "metadata": {
    "collapsed": false
   },
   "outputs": [
    {
     "data": {
      "text/plain": [
       "49"
      ]
     },
     "execution_count": 16,
     "metadata": {},
     "output_type": "execute_result"
    }
   ],
   "source": [
    "import numpy as np\n",
    "\n",
    "# 函数y = 1*x^2 + 0*x + 0\n",
    "y = np.poly1d([1, 0, 0])\n",
    "y(-7)"
   ]
  },
  {
   "cell_type": "code",
   "execution_count": 17,
   "metadata": {
    "collapsed": false
   },
   "outputs": [
    {
     "data": {
      "text/plain": [
       "-14"
      ]
     },
     "execution_count": 17,
     "metadata": {},
     "output_type": "execute_result"
    }
   ],
   "source": [
    "# d_yx：导函数\n",
    "d_yx = np.polyder(y)\n",
    "d_yx(-7)"
   ]
  },
  {
   "cell_type": "markdown",
   "metadata": {},
   "source": [
    "1\\."
   ]
  },
  {
   "cell_type": "code",
   "execution_count": 18,
   "metadata": {
    "collapsed": false
   },
   "outputs": [
    {
     "data": {
      "text/plain": [
       "(-7.950444685727838, 9.870139392489492)"
      ]
     },
     "execution_count": 18,
     "metadata": {},
     "output_type": "execute_result"
    }
   ],
   "source": [
    "import random\n",
    "\n",
    "# 随机选一个起点 \n",
    "x_0 = random.uniform(-10, 10)\n",
    "y_0 = random.uniform(-10, 10)\n",
    "x_0, y_0"
   ]
  },
  {
   "cell_type": "markdown",
   "metadata": {},
   "source": [
    "2\\."
   ]
  },
  {
   "cell_type": "code",
   "execution_count": 19,
   "metadata": {
    "collapsed": false
   },
   "outputs": [
    {
     "data": {
      "text/plain": [
       "-4.7702668114367022"
      ]
     },
     "execution_count": 19,
     "metadata": {},
     "output_type": "execute_result"
    }
   ],
   "source": [
    "def step(x, d_yx):\n",
    "    alpha = .2\n",
    "    return x - alpha*d_yx(x)\n",
    "step(x_0, d_yx)"
   ]
  },
  {
   "cell_type": "markdown",
   "metadata": {},
   "source": [
    "3\\. "
   ]
  },
  {
   "cell_type": "code",
   "execution_count": 20,
   "metadata": {
    "collapsed": false
   },
   "outputs": [
    {
     "data": {
      "text/plain": [
       "[-7.950444685727838,\n",
       " -4.7702668114367022,\n",
       " -2.8621600868620209,\n",
       " -1.7172960521172125,\n",
       " -1.0303776312703274,\n",
       " -0.61822657876219644,\n",
       " -0.37093594725731782,\n",
       " -0.2225615683543907,\n",
       " -0.13353694101263441,\n",
       " -0.080122164607580648,\n",
       " -0.04807329876454839]"
      ]
     },
     "execution_count": 20,
     "metadata": {},
     "output_type": "execute_result"
    }
   ],
   "source": [
    "x = x_0\n",
    "x_list = [x]\n",
    "for i in range(10):\n",
    "    x = step(x, d_yx)\n",
    "    x_list.append(x)\n",
    "x_list"
   ]
  },
  {
   "cell_type": "markdown",
   "metadata": {},
   "source": [
    "### 去均值与归一化"
   ]
  },
  {
   "cell_type": "code",
   "execution_count": 21,
   "metadata": {
    "collapsed": true
   },
   "outputs": [],
   "source": [
    "# 均值\n",
    "x = np.array([1, 2, 3, 4, 5])\n",
    "assert np.mean(x) == np.sum(x) / 5"
   ]
  },
  {
   "cell_type": "code",
   "execution_count": 22,
   "metadata": {
    "collapsed": false
   },
   "outputs": [],
   "source": [
    "# 方差\n",
    "assert np.std(x) == np.sqrt(np.mean((x - np.mean(x))**2))"
   ]
  },
  {
   "cell_type": "code",
   "execution_count": 23,
   "metadata": {
    "collapsed": false
   },
   "outputs": [],
   "source": [
    "# 两条特征向量\n",
    "f1 = np.array([0.2, 0.5, 1.1]).reshape(-1, 1)\n",
    "f2 = np.array([-100.0, 56.0, -77.0]).reshape(-1, 1)\n",
    "\n",
    "# 计算归一化\n",
    "f1_scaled = (f1 - np.mean(f1)) / np.std(f1)\n",
    "f2_scaled = (f2 - np.mean(f2)) / np.std(f2)\n",
    "\n",
    "# 用sklearn封装的函数计算归一化\n",
    "import sklearn.preprocessing as preprocessing\n",
    "scaler = preprocessing.StandardScaler()\n",
    "f1_sk_scaled = scaler.fit_transform(f1)\n",
    "f2_sk_scaled = scaler.fit_transform(f2)\n",
    "\n",
    "assert np.allclose(f1_sk_scaled, f1_scaled) and np.allclose(f2_sk_scaled, f2_scaled)"
   ]
  },
  {
   "cell_type": "markdown",
   "metadata": {},
   "source": [
    "### 实现"
   ]
  },
  {
   "cell_type": "code",
   "execution_count": 24,
   "metadata": {
    "collapsed": false
   },
   "outputs": [
    {
     "name": "stderr",
     "output_type": "stream",
     "text": [
      "LogisticRegression score mean: 0.973333333333\n"
     ]
    },
    {
     "data": {
      "text/plain": [
       "array([ 1.    ,  0.9333,  1.    ,  1.    ,  0.9333,  0.9333,  0.9333,\n",
       "        1.    ,  1.    ,  1.    ])"
      ]
     },
     "execution_count": 24,
     "metadata": {},
     "output_type": "execute_result"
    }
   ],
   "source": [
    "from abupy import AbuML\n",
    "import sklearn.preprocessing as preprocessing\n",
    "\n",
    "# IRIS花卉数据集\n",
    "iris = AbuML.create_test_fiter()\n",
    "\n",
    "# 使用逻辑分类，损失函数指定为交叉熵\n",
    "iris.estimator.logistic_classifier(multi_class='multinomial', solver='lbfgs')\n",
    "\n",
    "# cross-validation测试\n",
    "iris.cross_val_accuracy_score()"
   ]
  }
 ],
 "metadata": {
  "anaconda-cloud": {},
  "kernelspec": {
   "display_name": "Python 3",
   "language": "python",
   "name": "python3"
  },
  "language_info": {
   "codemirror_mode": {
    "name": "ipython",
    "version": 3
   },
   "file_extension": ".py",
   "mimetype": "text/x-python",
   "name": "python",
   "nbconvert_exporter": "python",
   "pygments_lexer": "ipython3",
   "version": "3.6.0"
  }
 },
 "nbformat": 4,
 "nbformat_minor": 0
}
